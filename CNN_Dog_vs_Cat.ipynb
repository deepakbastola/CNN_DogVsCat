{
 "cells": [
  {
   "cell_type": "code",
   "execution_count": 16,
   "id": "b19ef658",
   "metadata": {},
   "outputs": [],
   "source": [
    "import os\n",
    "import shutil\n",
    "from matplotlib import pyplot\n",
    "import matplotlib.pyplot as plt\n",
    "from matplotlib.image import imread"
   ]
  },
  {
   "cell_type": "code",
   "execution_count": 17,
   "id": "5f68438d",
   "metadata": {},
   "outputs": [],
   "source": [
    "dataset_dir = 'dogvscat/'\n",
    "base_dir = 'dogvscat_small'\n",
    "os.makedirs(base_dir, exist_ok=True)\n",
    "\n",
    "# Directory structure\n",
    "for subset in ['train', 'validation', 'test']:\n",
    "    for category in ['dogs', 'cats']:\n",
    "        dir_path = os.path.join(base_dir, subset, category)\n",
    "        os.makedirs(dir_path, exist_ok=True)"
   ]
  },
  {
   "cell_type": "code",
   "execution_count": null,
   "id": "87923810",
   "metadata": {},
   "outputs": [],
   "source": [
    "\n"
   ]
  }
 ],
 "metadata": {
  "kernelspec": {
   "display_name": ".venv",
   "language": "python",
   "name": "python3"
  },
  "language_info": {
   "codemirror_mode": {
    "name": "ipython",
    "version": 3
   },
   "file_extension": ".py",
   "mimetype": "text/x-python",
   "name": "python",
   "nbconvert_exporter": "python",
   "pygments_lexer": "ipython3",
   "version": "3.12.7"
  }
 },
 "nbformat": 4,
 "nbformat_minor": 5
}
